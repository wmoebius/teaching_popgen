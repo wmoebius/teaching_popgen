{
 "cells": [
  {
   "cell_type": "code",
   "execution_count": null,
   "metadata": {},
   "outputs": [],
   "source": [
    "import numpy as np\n",
    "import matplotlib.pyplot as plt"
   ]
  },
  {
   "cell_type": "code",
   "execution_count": null,
   "metadata": {},
   "outputs": [],
   "source": [
    "# S0, IWT0, R0: initial sizes of subpopulations\n",
    "# a:  removal rate of infected, rWT infection rate\n",
    "# T:  solve the equations until time T\n",
    "# ts: array of time points\n",
    "\n",
    "def solve_SIR(S0, IWT0, R0, rWT, a, ts):\n",
    "    \n",
    "    #initialize the populations vectors\n",
    "    S = np.zeros(ts.size)\n",
    "    IWT = np.zeros(ts.size)\n",
    "    R = np.zeros(ts.size)\n",
    "    N = S0 + IWT0 + R0\n",
    "    S[0] = S0\n",
    "    IWT[0] = IWT0\n",
    "    R[0] = R0\n",
    "    \n",
    "    # Euler method loop\n",
    "    for tidx in range(1,len(ts)):\n",
    "        # update S I R using the values from the last timestep\n",
    "        S[tidx] = S[tidx-1] - (rWT*IWT[tidx-1]*S[tidx-1]/N) * dt\n",
    "        IWT[tidx] = IWT[tidx-1] + (rWT*IWT[tidx-1]*S[tidx-1]/N - a*IWT[tidx-1]) * dt\n",
    "        R[tidx] = R[tidx-1] + (a*IWT[tidx-1]) * dt\n",
    "        \n",
    "    return S, IWT, R"
   ]
  },
  {
   "cell_type": "code",
   "execution_count": null,
   "metadata": {},
   "outputs": [],
   "source": [
    "a = 1\n",
    "rWT = 3\n",
    "T = 5\n",
    "\n",
    "plt.figure()\n",
    "\n",
    "dt = 1.0e-5\n",
    "ts = np.arange(0, T, dt)\n",
    "S, IWT, R = solve_SIR(8000, 50, 1950, rWT, a, ts)\n",
    "plt.plot(ts, S)\n",
    "plt.plot(ts, IWT)\n",
    "plt.plot(ts, R)\n",
    "\n",
    "plt.show()"
   ]
  },
  {
   "cell_type": "code",
   "execution_count": null,
   "metadata": {},
   "outputs": [],
   "source": []
  }
 ],
 "metadata": {
  "kernelspec": {
   "display_name": "Python 2",
   "language": "python",
   "name": "python2"
  },
  "language_info": {
   "codemirror_mode": {
    "name": "ipython",
    "version": 2
   },
   "file_extension": ".py",
   "mimetype": "text/x-python",
   "name": "python",
   "nbconvert_exporter": "python",
   "pygments_lexer": "ipython2",
   "version": "2.7.15"
  }
 },
 "nbformat": 4,
 "nbformat_minor": 4
}
