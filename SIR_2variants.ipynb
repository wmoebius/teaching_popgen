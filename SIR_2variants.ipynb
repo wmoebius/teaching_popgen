{
 "cells": [
  {
   "cell_type": "code",
   "execution_count": null,
   "metadata": {},
   "outputs": [],
   "source": [
    "import numpy as np\n",
    "import matplotlib.pyplot as plt"
   ]
  },
  {
   "cell_type": "code",
   "execution_count": null,
   "metadata": {},
   "outputs": [],
   "source": [
    "# S0, IWT0, IMUT0, R0: initial sizes of subpopulations\n",
    "# a:  removal rate of infected, rWT and rMUT infection rates\n",
    "# T:  solve the equations until time T\n",
    "# ts: array of time points\n",
    "\n",
    "def solve_SIR(S0, IWT0, IMUT0, R0, rWT, rMUT, a, ts):\n",
    "    \n",
    "    #initialize the populations vectors\n",
    "    S = np.zeros(ts.size)\n",
    "    IWT = np.zeros(ts.size)\n",
    "    IMUT = np.zeros(ts.size)\n",
    "    R = np.zeros(ts.size)\n",
    "    N = S0 + IWT0 + IMUT0 + R0\n",
    "    S[0] = S0\n",
    "    IWT[0] = IWT0\n",
    "    IMUT[0] = IMUT0\n",
    "    R[0] = R0\n",
    "    \n",
    "    # Euler method loop\n",
    "    for tidx in range(1,len(ts)):\n",
    "        # update S I R using the values from the last timestep\n",
    "        S[tidx] = S[tidx-1] - (rWT*IWT[tidx-1]*S[tidx-1]/N + rMUT*IMUT[tidx-1]*S[tidx-1]/N) * dt\n",
    "        IWT[tidx] = IWT[tidx-1] + (rWT*IWT[tidx-1]*S[tidx-1]/N - a*IWT[tidx-1]) * dt\n",
    "        IMUT[tidx] = IMUT[tidx-1] + (rMUT*IMUT[tidx-1]*S[tidx-1]/N - a*IMUT[tidx-1]) * dt\n",
    "        R[tidx] = R[tidx-1] + a*(IWT[tidx-1]+IMUT[tidx-1]) * dt\n",
    "        \n",
    "    return S, IWT, IMUT, R"
   ]
  },
  {
   "cell_type": "code",
   "execution_count": null,
   "metadata": {},
   "outputs": [],
   "source": [
    "a = 1\n",
    "rWT = 3\n",
    "rMUT = 6\n",
    "T = 10\n",
    "\n",
    "plt.figure()\n",
    "\n",
    "dt = 1.0e-5\n",
    "ts = np.arange(0, T, dt)\n",
    "S, IWT, IMUT, R = solve_SIR(8000, 50, 10, 1940, rWT, rMUT, a, ts)\n",
    "plt.plot(ts, S)\n",
    "plt.plot(ts, IMUT)\n",
    "plt.plot(ts, IWT)\n",
    "plt.plot(ts, R)\n",
    "\n",
    "print(ts[-1], IMUT[-1] / (IWT[-1] + IMUT[-1]))\n",
    "\n",
    "dt = 1.0e-3\n",
    "ts = np.arange(0, T, dt)\n",
    "S, IWT, IMUT, R = solve_SIR(8000, 50, 10, 1940, rWT, rMUT, a, ts)\n",
    "plt.plot(ts, S)\n",
    "plt.plot(ts, IMUT)\n",
    "plt.plot(ts, IWT)\n",
    "plt.plot(ts, R)\n",
    "\n",
    "print(ts[-1], IMUT[-1] / (IWT[-1] + IMUT[-1]))\n",
    "\n",
    "plt.show()\n",
    "\n",
    "plt.figure()\n",
    "plt.plot(ts, IMUT/(IMUT+IWT))\n",
    "plt.show()\n"
   ]
  }
 ],
 "metadata": {
  "kernelspec": {
   "display_name": "Python 3",
   "language": "python",
   "name": "python3"
  },
  "language_info": {
   "codemirror_mode": {
    "name": "ipython",
    "version": 3
   },
   "file_extension": ".py",
   "mimetype": "text/x-python",
   "name": "python",
   "nbconvert_exporter": "python",
   "pygments_lexer": "ipython3",
   "version": "3.7.3"
  }
 },
 "nbformat": 4,
 "nbformat_minor": 4
}
